{
 "cells": [
  {
   "cell_type": "markdown",
   "id": "86af8b50",
   "metadata": {},
   "source": [
    "# Sampling, Bias, and Community Structure in Real Networks"
   ]
  },
  {
   "cell_type": "markdown",
   "id": "8ae13c7b",
   "metadata": {},
   "source": [
    "## Part A — Sampling and Bias in Network Analysis (15 pts)\n",
    "\n",
    "Goal: Investigate how different sampling methods can change the observed structure of a social network."
   ]
  },
  {
   "cell_type": "code",
   "execution_count": 45,
   "id": "dc1e47d5",
   "metadata": {},
   "outputs": [],
   "source": [
    "import networkx as nx\n",
    "import random\n",
    "from tabulate import tabulate\n",
    "import matplotlib.pyplot as plt"
   ]
  },
  {
   "cell_type": "code",
   "execution_count": 2,
   "id": "085d9b3e",
   "metadata": {},
   "outputs": [],
   "source": [
    "G_fb = nx.read_edgelist(\"facebook_combined.txt\", nodetype=int)"
   ]
  },
  {
   "cell_type": "markdown",
   "id": "6db463fa",
   "metadata": {},
   "source": [
    "### A1 – Create Two Samples (6 pts)"
   ]
  },
  {
   "cell_type": "code",
   "execution_count": 72,
   "id": "6f533cf4",
   "metadata": {},
   "outputs": [
    {
     "name": "stdout",
     "output_type": "stream",
     "text": [
      "Sample      # Nodes    # Edges\n",
      "--------  ---------  ---------\n",
      "Random          250        376\n",
      "Ego            1046      27795\n"
     ]
    }
   ],
   "source": [
    "# 1. Random Sample – Randomly select 250 nodes.\n",
    "nodes = random.sample(sorted(G_fb.nodes()), 250)\n",
    "G_random = G_fb.subgraph(nodes).copy()\n",
    "\n",
    "# 2. Ego-Centered Sample – Pick a node with degree > 50 and build its 1.5-degree ego network.\n",
    "center = max(G_fb, key=lambda n: G_fb.degree(n))\n",
    "G_ego = nx.ego_graph(G_fb, center, radius=1)\n",
    "print(\n",
    "    tabulate(\n",
    "        [\n",
    "            [\"Random\", G_random.number_of_nodes(), G_random.number_of_edges()],\n",
    "            [\"Ego\", G_ego.number_of_nodes(), G_ego.number_of_edges()],\n",
    "        ],\n",
    "        headers=[\"Sample\", \"# Nodes\", \"# Edges\"]\n",
    "    )\n",
    ")"
   ]
  },
  {
   "cell_type": "markdown",
   "id": "5a20971c",
   "metadata": {},
   "source": [
    "## A2 – Compute and Visualize Metrics (6 pts)\n",
    "\n",
    "For each sample (`G_random`, `G_ego`):\n",
    "\n",
    "- Compute Average Clustering Coefficient (C)\n",
    "- Compute Average Shortest Path Length (L) (on largest component if needed)\n",
    "- Find Maximum Degree (Max k)\n",
    "\n",
    "### 1. Table of Metrics"
   ]
  },
  {
   "cell_type": "code",
   "execution_count": 73,
   "id": "c0aeada4",
   "metadata": {},
   "outputs": [
    {
     "name": "stdout",
     "output_type": "stream",
     "text": [
      "Sample      Avg Clustering (C)    Avg Path (L)    Max Degree\n",
      "--------  --------------------  --------------  ------------\n",
      "Random                    0.35            1.93            14\n",
      "Ego                       0.58            1.95          1045\n"
     ]
    }
   ],
   "source": [
    "print(\n",
    "    tabulate(\n",
    "        [\n",
    "            [\n",
    "                \"Random\",\n",
    "                round(nx.average_clustering(G_random), 2),\n",
    "                round(\n",
    "                    nx.average_shortest_path_length(\n",
    "                        G_random.subgraph(\n",
    "                            max(nx.connected_components(G_random), key=len)\n",
    "                        )\n",
    "                    ),\n",
    "                    2,\n",
    "                ),\n",
    "                max(G_random.degree, key=lambda x: x[1])[1],\n",
    "            ],\n",
    "            [\n",
    "                \"Ego\",\n",
    "                round(nx.average_clustering(G_ego), 2),\n",
    "                round(\n",
    "                    nx.average_shortest_path_length(\n",
    "                        G_ego.subgraph(\n",
    "                            max(nx.connected_components(G_ego), key=len)\n",
    "                        )\n",
    "                    ),\n",
    "                    2,\n",
    "                ),\n",
    "                max(G_ego.degree, key=lambda x: x[1])[1],\n",
    "            ],\n",
    "        ],\n",
    "        headers=[\"Sample\", \"Avg Clustering (C)\", \"Avg Path (L)\", \"Max Degree\"]\n",
    "    )\n",
    ")"
   ]
  },
  {
   "cell_type": "markdown",
   "id": "cb076906",
   "metadata": {},
   "source": [
    "### 2. Two degree distribution plots (log–log axes)\n",
    "\n",
    "Each plot must include a title, axis labels (“Degree (k)” and “Count of Nodes”)"
   ]
  },
  {
   "cell_type": "code",
   "execution_count": 71,
   "id": "141638e2",
   "metadata": {},
   "outputs": [
    {
     "data": {
      "image/png": "[encoded data removed]",
      "text/plain": [
       "<Figure size 1200x400 with 2 Axes>"
      ]
     },
     "metadata": {},
     "output_type": "display_data"
    }
   ],
   "source": [
    "fig, axes = plt.subplots(1, 2, figsize=(12, 4), sharex=True, sharey=True)\n",
    "\n",
    "axes[0].set_title(\"Random Sample\")\n",
    "axes[0].set_xlabel(\"Degree\")\n",
    "axes[0].set_ylabel(\"Frequency\")\n",
    "degree_freq = nx.degree_histogram(G_random)\n",
    "degrees = range(len(degree_freq))\n",
    "axes[0].loglog(degrees, degree_freq, \"o\")\n",
    "\n",
    "axes[1].set_title(\"Ego\")\n",
    "axes[1].set_xlabel(\"Degree\")\n",
    "axes[1].set_ylabel(\"Frequency\")\n",
    "degree_freq = nx.degree_histogram(G_ego)\n",
    "degrees = range(len(degree_freq))\n",
    "axes[1].loglog(degrees, degree_freq, \"o\")\n",
    "plt.show()"
   ]
  }
 ],
 "metadata": {
  "kernelspec": {
   "display_name": "cs4230",
   "language": "python",
   "name": "python3"
  },
  "language_info": {
   "codemirror_mode": {
    "name": "ipython",
    "version": 3
   },
   "file_extension": ".py",
   "mimetype": "text/x-python",
   "name": "python",
   "nbconvert_exporter": "python",
   "pygments_lexer": "ipython3",
   "version": "3.13.5"
  }
 },
 "nbformat": 4,
 "nbformat_minor": 5
}
