{
  "nbformat": 4,
  "nbformat_minor": 0,
  "metadata": {
    "colab": {
      "provenance": []
    },
    "kernelspec": {
      "name": "python3",
      "display_name": "Python 3"
    },
    "language_info": {
      "name": "python"
    }
  },
  "cells": [
    {
      "cell_type": "markdown",
      "source": [
        "**Setup & First Graph**"
      ],
      "metadata": {
        "id": "Pg0m9gni2p5k"
      }
    },
    {
      "cell_type": "code",
      "execution_count": null,
      "metadata": {
        "id": "8rrxU4Lf2i5n"
      },
      "outputs": [],
      "source": [
        "import networkx as nx\n",
        "import matplotlib.pyplot as plt\n",
        "\n",
        "# toy graph\n",
        "G = nx.Graph()\n",
        "G.add_edges_from([\n",
        "    (\"A\", \"B\"), (\"A\", \"C\"),\n",
        "    (\"B\", \"C\"), (\"B\", \"D\"),\n",
        "    (\"D\", \"E\"), (\"E\", \"F\")\n",
        "])\n",
        "\n",
        "print(\"Nodes:\", G.nodes())\n",
        "print(\"Edges:\", G.edges())\n",
        "nx.draw(G, with_labels=True)\n",
        "plt.show()\n"
      ]
    },
    {
      "cell_type": "markdown",
      "source": [
        "**Degree & Degree Distribution**"
      ],
      "metadata": {
        "id": "LV9wNZfx22f0"
      }
    },
    {
      "cell_type": "code",
      "source": [
        "# Degree dictionary\n",
        "deg = dict(G.degree())\n",
        "print(deg)\n",
        "\n",
        "# Degree distribution\n",
        "values = list(deg.values())\n",
        "plt.hist(values, bins=range(1, max(values)+2), align=\"left\", rwidth=0.8)\n",
        "plt.xlabel(\"Degree (k)\")\n",
        "plt.ylabel(\"Count\")\n",
        "plt.title(\"Degree Distribution\")\n",
        "plt.show()\n"
      ],
      "metadata": {
        "id": "G45KLq8b240w"
      },
      "execution_count": null,
      "outputs": []
    },
    {
      "cell_type": "markdown",
      "source": [
        "**Connected Components**"
      ],
      "metadata": {
        "id": "GDWpIQQk3Gme"
      }
    },
    {
      "cell_type": "code",
      "source": [
        "components = list(nx.connected_components(G))\n",
        "print(\"Connected components:\", components)\n",
        "\n",
        "# Largest component as subgraph\n",
        "largest_cc = G.subgraph(max(components, key=len))\n",
        "nx.draw(largest_cc, with_labels=True)\n",
        "plt.show()\n"
      ],
      "metadata": {
        "id": "ov3tSOvy3IaB"
      },
      "execution_count": null,
      "outputs": []
    },
    {
      "cell_type": "markdown",
      "source": [
        "**Shortest Paths**"
      ],
      "metadata": {
        "id": "wnXyTFMV9DAy"
      }
    },
    {
      "cell_type": "code",
      "source": [
        "# Shortest path between two nodes\n",
        "print(nx.shortest_path(G, \"A\", \"E\"))\n",
        "print(\"Length:\", nx.shortest_path_length(G, \"A\", \"E\"))\n",
        "\n",
        "# Average shortest path length\n",
        "# (must be connected, so use largest_cc)\n",
        "print(\"Average path length:\", nx.average_shortest_path_length(G))\n"
      ],
      "metadata": {
        "id": "r7Ou_qlz9GOl"
      },
      "execution_count": null,
      "outputs": []
    },
    {
      "cell_type": "markdown",
      "source": [
        "**Clustering & Triangles**"
      ],
      "metadata": {
        "id": "D-2TTOOi9Z6V"
      }
    },
    {
      "cell_type": "code",
      "source": [
        "print(\"Clustering coefficients:\", nx.clustering(G))\n",
        "print(\"Average clustering:\", nx.average_clustering(G))\n"
      ],
      "metadata": {
        "id": "2KM5QKAn9cul"
      },
      "execution_count": null,
      "outputs": []
    },
    {
      "cell_type": "markdown",
      "source": [
        "**Centrality**"
      ],
      "metadata": {
        "id": "aTtC8hN89jDO"
      }
    },
    {
      "cell_type": "code",
      "source": [
        "print(\"Degree centrality:\", nx.degree_centrality(G))\n",
        "print(\"Closeness centrality:\", nx.closeness_centrality(G))\n",
        "print(\"Betweenness centrality:\", nx.betweenness_centrality(G))\n"
      ],
      "metadata": {
        "id": "ZWBr_Kw59mjh"
      },
      "execution_count": null,
      "outputs": []
    },
    {
      "cell_type": "markdown",
      "source": [
        "**Modularity in NetworkX**"
      ],
      "metadata": {
        "id": "-zcSwWGXk2KV"
      }
    },
    {
      "cell_type": "code",
      "source": [
        "import networkx.algorithms.community as nx_comm\n",
        "\n",
        "# Detect communities with a greedy modularity algorithm\n",
        "communities = nx_comm.greedy_modularity_communities(G)\n",
        "print(\"Communities:\", communities)\n",
        "\n",
        "# Compute Q value for this partition\n",
        "q = nx_comm.modularity(G, communities)\n",
        "print(\"Modularity Q:\", q)\n",
        "\n",
        "for c in communities:\n",
        "  print(list(c)) #turn into a list\n"
      ],
      "metadata": {
        "id": "OLFZd4UWk5LK"
      },
      "execution_count": null,
      "outputs": []
    },
    {
      "cell_type": "markdown",
      "source": [
        "The frozenset above is an immutable set. This means the communities (groups of nodes) cannot be changed once detected."
      ],
      "metadata": {
        "id": "uuQZFJlqlJnS"
      }
    },
    {
      "cell_type": "markdown",
      "source": [
        "**Mini-Exercise**"
      ],
      "metadata": {
        "id": "UWdQLFllfXGG"
      }
    },
    {
      "cell_type": "code",
      "source": [
        "H = nx.planted_partition_graph(l=2, k=6, p_in=0.6, p_out=0.05)\n",
        "nx.draw(H, with_labels=True, node_color=\"lightblue\")\n",
        "plt.show()\n"
      ],
      "metadata": {
        "id": "dfqq1CHjfbVo",
        "collapsed": true
      },
      "execution_count": null,
      "outputs": []
    }
  ]
}