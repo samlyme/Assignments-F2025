{
  "nbformat": 4,
  "nbformat_minor": 0,
  "metadata": {
    "colab": {
      "provenance": []
    },
    "kernelspec": {
      "name": "python3",
      "display_name": "Python 3"
    },
    "language_info": {
      "name": "python"
    }
  },
  "cells": [
    {
      "cell_type": "markdown",
      "source": [
        "# **SI Model on Toy Graph**"
      ],
      "metadata": {
        "id": "YhJiX2o3LnlL"
      }
    },
    {
      "cell_type": "code",
      "source": [
        "import networkx as nx, random\n",
        "\n",
        "# Toy line graph\n",
        "G = nx.path_graph(10)  # nodes 0-3 in a line\n",
        "beta = 0.5\n",
        "random.seed(1)\n",
        "\n",
        "def simulate_SI(G, seeds, steps=12, beta=0.5):\n",
        "    infected = set(seeds)\n",
        "    history = [len(infected)]\n",
        "    for _ in range(steps):\n",
        "        new_inf = set(infected)\n",
        "        for u in infected:\n",
        "            for v in G.neighbors(u):\n",
        "                if v not in infected and random.random() < beta:\n",
        "                    new_inf.add(v)\n",
        "        infected = new_inf\n",
        "        history.append(len(infected))\n",
        "    return history\n",
        "\n",
        "print(simulate_SI(G, [0], steps=12, beta=beta))\n"
      ],
      "metadata": {
        "colab": {
          "base_uri": "https://localhost:8080/"
        },
        "id": "7RpcD15PKYqd",
        "outputId": "8ee276c3-3650-4d1e-e559-cdce397a1cff"
      },
      "execution_count": 1,
      "outputs": [
        {
          "output_type": "stream",
          "name": "stdout",
          "text": [
            "[1, 2, 2, 2, 3, 4, 5, 5, 5, 6, 7, 7, 8]\n"
          ]
        }
      ]
    },
    {
      "cell_type": "markdown",
      "source": [
        "# **SIR Model on Toy Graph**"
      ],
      "metadata": {
        "id": "CMpFzxzkO4ci"
      }
    },
    {
      "cell_type": "code",
      "source": [
        "import networkx as nx, random\n",
        "\n",
        "# Toy line graph\n",
        "G = nx.path_graph(4)  # nodes 0-3 in a line\n",
        "beta = 0.5   # infection probability\n",
        "gamma = 0.3  # recovery probability\n",
        "random.seed(1)\n",
        "\n",
        "def simulate_SIR(G, seeds, steps=5, beta=0.5, gamma=0.3):\n",
        "    # Initialize sets\n",
        "    S = set(G.nodes())\n",
        "    I = set(seeds)\n",
        "    R = set()\n",
        "    S -= I  # remove initial infected from susceptible\n",
        "\n",
        "    history = [(len(S), len(I), len(R))]  # track counts (S,I,R)\n",
        "\n",
        "    for _ in range(steps):\n",
        "        newI = set(I)\n",
        "        newR = set(R)\n",
        "\n",
        "        # Infection attempts\n",
        "        for u in list(I):\n",
        "            for v in G.neighbors(u):\n",
        "                if v in S and random.random() < beta:\n",
        "                    newI.add(v)\n",
        "                    S.discard(v)\n",
        "\n",
        "        # Recoveries\n",
        "        for u in list(I):\n",
        "            if random.random() < gamma:\n",
        "                newI.discard(u)\n",
        "                newR.add(u)\n",
        "\n",
        "        I, R = newI, newR\n",
        "        history.append((len(S), len(I), len(R)))\n",
        "\n",
        "    return history\n",
        "\n",
        "# Run the simulation: seed node 0 infected initially\n",
        "print(simulate_SIR(G, [0], steps=5, beta=beta, gamma=gamma))\n"
      ],
      "metadata": {
        "colab": {
          "base_uri": "https://localhost:8080/"
        },
        "id": "yBDTa2v5O7pK",
        "outputId": "f5306f48-b08f-4e57-e3d5-154c99aefd63"
      },
      "execution_count": 2,
      "outputs": [
        {
          "output_type": "stream",
          "name": "stdout",
          "text": [
            "[(3, 1, 0), (2, 2, 0), (2, 1, 1), (1, 2, 1), (1, 0, 3), (1, 0, 3)]\n"
          ]
        }
      ]
    },
    {
      "cell_type": "markdown",
      "source": [
        "# **Threshold Model**"
      ],
      "metadata": {
        "id": "Ns--AkXxVRGa"
      }
    },
    {
      "cell_type": "code",
      "source": [
        "import networkx as nx\n",
        "\n",
        "# Toy line graph: 0—1—2—3—4\n",
        "G = nx.path_graph(5)  # nodes 0..4 in a line\n",
        "\n",
        "# Linear-threshold simulator (fraction rule):\n",
        "# adopt if (active_neighbors / degree) >= theta\n",
        "def simulate_threshold(G, seeds, theta=0.5, max_iters=10):\n",
        "    A = set(seeds)               # active/adopted\n",
        "    history = [len(A)]           # track cumulative adopters over time\n",
        "    for _ in range(max_iters):\n",
        "        to_add = []\n",
        "        for u in G.nodes():\n",
        "            if u in A:\n",
        "                continue\n",
        "            nbrs = list(G.neighbors(u))\n",
        "            if not nbrs:\n",
        "                continue\n",
        "            frac = sum(1 for v in nbrs if v in A) / len(nbrs)\n",
        "            if frac >= theta:\n",
        "                to_add.append(u)\n",
        "        if not to_add:\n",
        "            break\n",
        "        A.update(to_add)\n",
        "        history.append(len(A))\n",
        "    return history, A\n",
        "\n",
        "# Seeds & threshold:\n",
        "# Start with nodes 0 and 1 active; with theta=0.5 each interior node adopts\n",
        "# once half of its neighbors are active → cascade down the line.\n",
        "seeds = [0, 1]\n",
        "theta = 0.5\n",
        "\n",
        "hist, final_A = simulate_threshold(G, seeds, theta=theta, max_iters=10)\n",
        "print(\"History (cumulative active each iteration):\", hist)\n",
        "print(\"Final active set:\", sorted(final_A))\n"
      ],
      "metadata": {
        "colab": {
          "base_uri": "https://localhost:8080/"
        },
        "id": "cIY3qKj0VUeS",
        "outputId": "7b0edf62-d7ba-41d4-c828-aebc292d6f27"
      },
      "execution_count": 3,
      "outputs": [
        {
          "output_type": "stream",
          "name": "stdout",
          "text": [
            "History (cumulative active each iteration): [2, 3, 4, 5]\n",
            "Final active set: [0, 1, 2, 3, 4]\n"
          ]
        }
      ]
    }
  ]
}